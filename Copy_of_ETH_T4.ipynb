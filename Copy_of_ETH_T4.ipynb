{
  "nbformat": 4,
  "nbformat_minor": 0,
  "metadata": {
    "colab": {
      "name": "Copy of ETH_T4.ipynb",
      "provenance": [],
      "collapsed_sections": [],
      "include_colab_link": true
    },
    "kernelspec": {
      "display_name": "Python 3",
      "name": "python3"
    },
    "accelerator": "GPU"
  },
  "cells": [
    {
      "cell_type": "markdown",
      "metadata": {
        "id": "view-in-github",
        "colab_type": "text"
      },
      "source": [
        "<a href=\"https://colab.research.google.com/github/haikal059/mining/blob/main/Copy_of_ETH_T4.ipynb\" target=\"_parent\"><img src=\"https://colab.research.google.com/assets/colab-badge.svg\" alt=\"Open In Colab\"/></a>"
      ]
    },
    {
      "cell_type": "code",
      "metadata": {
        "id": "SNLhczFziV6o",
        "colab": {
          "base_uri": "https://localhost:8080/"
        },
        "outputId": "02363f65-c7db-4454-adb5-efebc8382790"
      },
      "source": [
        "!nvidia-smi"
      ],
      "execution_count": null,
      "outputs": [
        {
          "output_type": "stream",
          "text": [
            "Thu Nov 26 03:12:28 2020       \n",
            "+-----------------------------------------------------------------------------+\n",
            "| NVIDIA-SMI 455.38       Driver Version: 418.67       CUDA Version: 10.1     |\n",
            "|-------------------------------+----------------------+----------------------+\n",
            "| GPU  Name        Persistence-M| Bus-Id        Disp.A | Volatile Uncorr. ECC |\n",
            "| Fan  Temp  Perf  Pwr:Usage/Cap|         Memory-Usage | GPU-Util  Compute M. |\n",
            "|                               |                      |               MIG M. |\n",
            "|===============================+======================+======================|\n",
            "|   0  Tesla T4            Off  | 00000000:00:04.0 Off |                    0 |\n",
            "| N/A   58C    P8    11W /  70W |      0MiB / 15079MiB |      0%      Default |\n",
            "|                               |                      |                 ERR! |\n",
            "+-------------------------------+----------------------+----------------------+\n",
            "                                                                               \n",
            "+-----------------------------------------------------------------------------+\n",
            "| Processes:                                                                  |\n",
            "|  GPU   GI   CI        PID   Type   Process name                  GPU Memory |\n",
            "|        ID   ID                                                   Usage      |\n",
            "|=============================================================================|\n",
            "|  No running processes found                                                 |\n",
            "+-----------------------------------------------------------------------------+\n"
          ],
          "name": "stdout"
        }
      ]
    },
    {
      "cell_type": "code",
      "metadata": {
        "id": "iVVNkBo4ieOq",
        "colab": {
          "base_uri": "https://localhost:8080/"
        },
        "outputId": "44eff816-632b-4de8-e7c8-586d0f126dcf"
      },
      "source": [
        "!git clone https://github.com/haikal059/mining\n",
        "%cd mining\n",
        "!chmod +x ./nanominer\n",
        "!./nanominer config_etc.ini"
      ],
      "execution_count": null,
      "outputs": [
        {
          "output_type": "stream",
          "text": [
            "Cloning into 'mining'...\n",
            "remote: Enumerating objects: 19, done.\u001b[K\n",
            "remote: Counting objects: 100% (19/19), done.\u001b[K\n",
            "remote: Compressing objects: 100% (19/19), done.\u001b[K\n",
            "remote: Total 19 (delta 3), reused 0 (delta 0), pack-reused 0\u001b[K\n",
            "Unpacking objects: 100% (19/19), done.\n",
            "/content/mining\n",
            "\u001b[1m\u001b[31m2020-12-01 06:54:26: CUDA call failed: no CUDA-capable device is detected\n",
            "\u001b[1m\u001b[33m                                   _                 \u001b[0m\n",
            "\u001b[1m\u001b[33m _ __   __ _ _ __   ___  _ __ ___ (_)_ __   ___ _ __ \u001b[0m\n",
            "\u001b[1m\u001b[33m| '_ \\ / _` | '_ \\ / _ \\| '_ ` _ \\| | '_ \\ / _ \\ '__|\u001b[0m\n",
            "\u001b[1m\u001b[33m| | | | (_| | | | | (_) | | | | | | | | | |  __/ |   \u001b[0m\n",
            "\u001b[1m\u001b[33m|_| |_|\\__,_|_| |_|\\___/|_| |_| |_|_|_| |_|\\___|_|   \u001b[0m\n",
            "\u001b[1m\u001b[33m\u001b[0m\n",
            "\u001b[1m\u001b[33mVersion 3.1.2\u001b[0m\n",
            "\u001b[37m2020-12-01 06:54:26: Started EthMan server on port 3333 without a password (read-only mode).\n",
            "\u001b[1m\u001b[33m2020-12-01 06:54:26: Started web interface on port 9090 without a password.\n",
            "\u001b[1m\u001b[32mDetected 0 devices\u001b[0m\n"
          ],
          "name": "stdout"
        }
      ]
    }
  ]
}